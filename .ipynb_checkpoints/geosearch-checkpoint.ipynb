{
 "cells": [
  {
   "cell_type": "code",
   "execution_count": 1,
   "metadata": {},
   "outputs": [
    {
     "name": "stdout",
     "output_type": "stream",
     "text": [
      "Collecting tweepy\n",
      "  Using cached tweepy-3.8.0-py2.py3-none-any.whl (28 kB)\n",
      "Requirement already satisfied: six>=1.10.0 in /anaconda3/lib/python3.6/site-packages (from tweepy) (1.11.0)\n",
      "Requirement already satisfied: PySocks>=1.5.7 in /anaconda3/lib/python3.6/site-packages (from tweepy) (1.6.7)\n",
      "Requirement already satisfied: requests>=2.11.1 in /anaconda3/lib/python3.6/site-packages (from tweepy) (2.18.4)\n",
      "Collecting requests-oauthlib>=0.7.0\n",
      "  Using cached requests_oauthlib-1.3.0-py2.py3-none-any.whl (23 kB)\n",
      "Requirement already satisfied: chardet<3.1.0,>=3.0.2 in /anaconda3/lib/python3.6/site-packages (from requests>=2.11.1->tweepy) (3.0.4)\n",
      "Requirement already satisfied: idna<2.7,>=2.5 in /anaconda3/lib/python3.6/site-packages (from requests>=2.11.1->tweepy) (2.6)\n",
      "Requirement already satisfied: urllib3<1.23,>=1.21.1 in /anaconda3/lib/python3.6/site-packages (from requests>=2.11.1->tweepy) (1.22)\n",
      "Requirement already satisfied: certifi>=2017.4.17 in /anaconda3/lib/python3.6/site-packages (from requests>=2.11.1->tweepy) (2017.7.27.1)\n",
      "Collecting oauthlib>=3.0.0\n",
      "  Using cached oauthlib-3.1.0-py2.py3-none-any.whl (147 kB)\n",
      "Installing collected packages: oauthlib, requests-oauthlib, tweepy\n",
      "Successfully installed oauthlib-3.1.0 requests-oauthlib-1.3.0 tweepy-3.8.0\n"
     ]
    }
   ],
   "source": [
    "# created on Dec 24, 2020\n",
    "# @author:          Bo Zhao\n",
    "# @email:           zhaobo@uw.edu\n",
    "# @website:         https://hgis.uw.edu\n",
    "# @organization:    Department of Geography, University of Washington, Seattle\n",
    "# @description:     Search geo-tagged tweets within the U.S. This script is modified from https://github.com/shawn-terryah/Twitter_Geolocation\n",
    "\n",
    "!python -m pip install tweepy\n",
    "import tweepy, json, time"
   ]
  },
  {
   "cell_type": "code",
   "execution_count": 2,
   "metadata": {
    "collapsed": true
   },
   "outputs": [],
   "source": [
    "class StreamListener(tweepy.StreamListener):\n",
    "    \"\"\"tweepy.StreamListener is a class provided by tweepy used to access\n",
    "    the Twitter Streaming API to collect tweets in real-time.\n",
    "    \"\"\"\n",
    "\n",
    "    def __init__(self, time_limit=60, file=\"\"):\n",
    "        \"\"\"class initialization\"\"\"\n",
    "        self.start_time = time.time()\n",
    "        self.limit = time_limit\n",
    "        self.f = open(file, 'a', encoding=\"utf-8\")\n",
    "        super(StreamListener, self).__init__()\n",
    "\n",
    "    def on_data(self, data):\n",
    "        \"\"\"This is called when data are streamed in.\"\"\"\n",
    "        if (time.time() - self.start_time) < self.limit:\n",
    "            datajson = json.loads(data)\n",
    "            print (datajson)\n",
    "            id = datajson['id']\n",
    "            username = datajson['user']['screen_name']\n",
    "            created_at = datajson['created_at']\n",
    "            text = datajson['text'].strip().replace(\"\\n\", \"\")\n",
    "\n",
    "            # process the geo-tags\n",
    "            if datajson['coordinates'] == None:\n",
    "                bbox = datajson['place']['bounding_box']['coordinates'][0]\n",
    "                lng = (bbox[0][0] + bbox[2][0]) / 2.0\n",
    "                lat = (bbox[0][1] + bbox[1][1]) / 2.0\n",
    "            else:\n",
    "                lng = datajson['coordinates']['coordinates'][0]\n",
    "                lat = datajson['coordinates']['coordinates'][1]\n",
    "\n",
    "            record = '%d, %s, %s, %f, %f, %s \\n' % (id, username, created_at, lng, lat, text)\n",
    "            print (record)\n",
    "            self.f.write(record)\n",
    "        else:\n",
    "            self.f.close()\n",
    "            print (\"finishe.\")\n",
    "            return False"
   ]
  },
  {
   "cell_type": "code",
   "execution_count": 6,
   "metadata": {},
   "outputs": [],
   "source": [
    "if __name__ == \"__main__\":\n",
    "    # These are provided to you through the Twitter API after you create a account\n",
    "    # register a Twitter App to get the keys and access tokens.\n",
    "    output_file = \"/Users/joshuaji/Desktop/geog458_lab2/tweets.csv\"\n",
    "\n",
    "    # Apply for your own Twitter API keys at https://developer.twitter.com/en/apply-for-access\n",
    "    consumer_key = \" KicDGLM3ZMroefwGl3Bm37KUg\"\n",
    "    consumer_secret = \" DUBXvbX195Bk3HaBM8o76CH2MiksBbhv2yZbdQdEfKuKZcd2tV\"\n",
    "    access_token = \" 806653491586310144-1aP3AW4DUlPcVFZERLJVn5i19MGUcIx\"\n",
    "    access_token_secret = \" 88h7oQ3MG9LjwdC1L69gY3y5wY33YyhHOB8dPaiSflt8o\"\n",
    "\n",
    "\n",
    "    myauth = tweepy.OAuthHandler(consumer_key, consumer_secret)\n",
    "    myauth.set_access_token(access_token, access_token_secret)\n",
    "\n",
    "    # LOCATIONS are the longitude, latitude coordinate corners for a box that restricts the\n",
    "    # geographic area from which you will stream tweets. The first two define the southwest\n",
    "    # corner of the box and the second two define the northeast corner of the box.\n",
    "    HongKong = [113.8626, 22.3874, 114.2141, 22.58029,  # HongKong\n",
    "                 114.5410, 22.3213,113.853, 22.04287]  # Hawaii\n",
    "\n",
    "    stream_listener = StreamListener(time_limit=60, file=output_file)\n",
    "    stream = tweepy.Stream(auth=myauth, listener=stream_listener)\n",
    "    stream.filter(locations=HongKong)"
   ]
  },
  {
   "cell_type": "code",
   "execution_count": null,
   "metadata": {
    "collapsed": true
   },
   "outputs": [],
   "source": []
  },
  {
   "cell_type": "code",
   "execution_count": null,
   "metadata": {
    "collapsed": true
   },
   "outputs": [],
   "source": []
  }
 ],
 "metadata": {
  "kernelspec": {
   "display_name": "Python 3",
   "language": "python",
   "name": "python3"
  },
  "language_info": {
   "codemirror_mode": {
    "name": "ipython",
    "version": 3
   },
   "file_extension": ".py",
   "mimetype": "text/x-python",
   "name": "python",
   "nbconvert_exporter": "python",
   "pygments_lexer": "ipython3",
   "version": "3.6.3"
  }
 },
 "nbformat": 4,
 "nbformat_minor": 2
}
